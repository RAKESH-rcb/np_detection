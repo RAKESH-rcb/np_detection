{
  "nbformat": 4,
  "nbformat_minor": 0,
  "metadata": {
    "colab": {
      "name": "palate localization.ipynb",
      "provenance": [],
      "collapsed_sections": [],
      "machine_shape": "hm"
    },
    "kernelspec": {
      "name": "python3",
      "display_name": "Python 3"
    },
    "accelerator": "GPU"
  },
  "cells": [
    {
      "cell_type": "code",
      "metadata": {
        "id": "ye9ksZoKuJBr",
        "colab_type": "code",
        "colab": {}
      },
      "source": [
        "import cv2\n",
        "import torch\n",
        "from torch.autograd import Variable\n",
        "import torch.nn as nn\n",
        "import argparse\n",
        "import numpy as np\n",
        "from os import path, mkdir\n",
        "\n",
        "from time import time"
      ],
      "execution_count": 0,
      "outputs": []
    },
    {
      "cell_type": "code",
      "metadata": {
        "id": "JysSCoANuTVb",
        "colab_type": "code",
        "outputId": "5477d06b-7e34-4dfe-bf51-74acf3c3cd5c",
        "colab": {
          "base_uri": "https://localhost:8080/",
          "height": 34
        }
      },
      "source": [
        "use_gpu = torch.cuda.is_available()\n",
        "print (use_gpu)\n",
        "\n",
        "numClasses = 4\n",
        "numPoints = 4\n",
        "imgSize = (480, 480)\n",
        "batchSize = 8 if use_gpu else 8\n",
        "\n",
        "\n",
        "provNum, alphaNum, adNum = 38, 25, 35"
      ],
      "execution_count": 2,
      "outputs": [
        {
          "output_type": "stream",
          "text": [
            "True\n"
          ],
          "name": "stdout"
        }
      ]
    },
    {
      "cell_type": "code",
      "metadata": {
        "id": "VofP7SqJuTbs",
        "colab_type": "code",
        "colab": {}
      },
      "source": [
        "class wR2(nn.Module):\n",
        "    def __init__(self, num_classes=1000):\n",
        "        super(wR2, self).__init__()\n",
        "        hidden1 = nn.Sequential(\n",
        "            nn.Conv2d(in_channels=3, out_channels=48, kernel_size=5, padding=2, stride=2),\n",
        "            nn.BatchNorm2d(num_features=48),\n",
        "            nn.ReLU(),\n",
        "            nn.MaxPool2d(kernel_size=2, stride=2, padding=1),\n",
        "            nn.Dropout(0.2)\n",
        "        )\n",
        "        hidden2 = nn.Sequential(\n",
        "            nn.Conv2d(in_channels=48, out_channels=64, kernel_size=5, padding=2),\n",
        "            nn.BatchNorm2d(num_features=64),\n",
        "            nn.ReLU(),\n",
        "            nn.MaxPool2d(kernel_size=2, stride=1, padding=1),\n",
        "            nn.Dropout(0.2)\n",
        "        )\n",
        "        hidden3 = nn.Sequential(\n",
        "            nn.Conv2d(in_channels=64, out_channels=128, kernel_size=5, padding=2),\n",
        "            nn.BatchNorm2d(num_features=128),\n",
        "            nn.ReLU(),\n",
        "            nn.MaxPool2d(kernel_size=2, stride=2, padding=1),\n",
        "            nn.Dropout(0.2)\n",
        "        )\n",
        "        hidden4 = nn.Sequential(\n",
        "            nn.Conv2d(in_channels=128, out_channels=160, kernel_size=5, padding=2),\n",
        "            nn.BatchNorm2d(num_features=160),\n",
        "            nn.ReLU(),\n",
        "            nn.MaxPool2d(kernel_size=2, stride=1, padding=1),\n",
        "            nn.Dropout(0.2)\n",
        "        )\n",
        "        hidden5 = nn.Sequential(\n",
        "            nn.Conv2d(in_channels=160, out_channels=192, kernel_size=5, padding=2),\n",
        "            nn.BatchNorm2d(num_features=192),\n",
        "            nn.ReLU(),\n",
        "            nn.MaxPool2d(kernel_size=2, stride=2, padding=1),\n",
        "            nn.Dropout(0.2)\n",
        "        )\n",
        "        hidden6 = nn.Sequential(\n",
        "            nn.Conv2d(in_channels=192, out_channels=192, kernel_size=5, padding=2),\n",
        "            nn.BatchNorm2d(num_features=192),\n",
        "            nn.ReLU(),\n",
        "            nn.MaxPool2d(kernel_size=2, stride=1, padding=1),\n",
        "            nn.Dropout(0.2)\n",
        "        )\n",
        "        hidden7 = nn.Sequential(\n",
        "            nn.Conv2d(in_channels=192, out_channels=192, kernel_size=5, padding=2),\n",
        "            nn.BatchNorm2d(num_features=192),\n",
        "            nn.ReLU(),\n",
        "            nn.MaxPool2d(kernel_size=2, stride=2, padding=1),\n",
        "            nn.Dropout(0.2)\n",
        "        )\n",
        "        hidden8 = nn.Sequential(\n",
        "            nn.Conv2d(in_channels=192, out_channels=192, kernel_size=5, padding=2),\n",
        "            nn.BatchNorm2d(num_features=192),\n",
        "            nn.ReLU(),\n",
        "            nn.MaxPool2d(kernel_size=2, stride=1, padding=1),\n",
        "            nn.Dropout(0.2)\n",
        "        )\n",
        "        hidden9 = nn.Sequential(\n",
        "            nn.Conv2d(in_channels=192, out_channels=192, kernel_size=3, padding=1),\n",
        "            nn.BatchNorm2d(num_features=192),\n",
        "            nn.ReLU(),\n",
        "            nn.MaxPool2d(kernel_size=2, stride=2, padding=1),\n",
        "            nn.Dropout(0.2)\n",
        "        )\n",
        "        hidden10 = nn.Sequential(\n",
        "            nn.Conv2d(in_channels=192, out_channels=192, kernel_size=3, padding=1),\n",
        "            nn.BatchNorm2d(num_features=192),\n",
        "            nn.ReLU(),\n",
        "            nn.MaxPool2d(kernel_size=2, stride=1, padding=1),\n",
        "            nn.Dropout(0.2)\n",
        "        )\n",
        "        self.features = nn.Sequential(\n",
        "            hidden1,\n",
        "            hidden2,\n",
        "            hidden3,\n",
        "            hidden4,\n",
        "            hidden5,\n",
        "            hidden6,\n",
        "            hidden7,\n",
        "            hidden8,\n",
        "            hidden9,\n",
        "            hidden10\n",
        "        )\n",
        "        self.classifier = nn.Sequential(\n",
        "            nn.Linear(63360, 100),\n",
        "            # nn.ReLU(inplace=True),\n",
        "            nn.Linear(100, 100),\n",
        "            # nn.ReLU(inplace=True),\n",
        "            nn.Linear(100, 12),\n",
        "        )\n",
        "\n",
        "    def forward(self, x):\n",
        "        x1 = self.features(x)\n",
        "        x11 = x1.view(x1.size(0), -1)\n",
        "        x = self.classifier(x11)\n",
        "        return x\n"
      ],
      "execution_count": 0,
      "outputs": []
    },
    {
      "cell_type": "code",
      "metadata": {
        "id": "8g9sAfv7uTSd",
        "colab_type": "code",
        "colab": {}
      },
      "source": [
        ""
      ],
      "execution_count": 0,
      "outputs": []
    },
    {
      "cell_type": "code",
      "metadata": {
        "id": "xR0kTNQD1c-e",
        "colab_type": "code",
        "outputId": "42edde16-059f-462e-f3a2-adae26a4d713",
        "colab": {
          "base_uri": "https://localhost:8080/",
          "height": 34
        }
      },
      "source": [
        "from google.colab import drive\n",
        "drive.mount('/content/drive')"
      ],
      "execution_count": 4,
      "outputs": [
        {
          "output_type": "stream",
          "text": [
            "Mounted at /content/drive\n"
          ],
          "name": "stdout"
        }
      ]
    },
    {
      "cell_type": "code",
      "metadata": {
        "id": "gxdO6C4w0dkM",
        "colab_type": "code",
        "colab": {}
      },
      "source": [
        "import pandas as pd\n",
        "import glob\n",
        "name=names=(glob.glob(\"/content/drive/My Drive/ccpd_db/*\"))"
      ],
      "execution_count": 0,
      "outputs": []
    },
    {
      "cell_type": "code",
      "metadata": {
        "id": "VYNQ54EN0Por",
        "colab_type": "code",
        "colab": {}
      },
      "source": [
        "df=pd.DataFrame(names)"
      ],
      "execution_count": 0,
      "outputs": []
    },
    {
      "cell_type": "code",
      "metadata": {
        "id": "PdZIr_zL0Ps4",
        "colab_type": "code",
        "colab": {}
      },
      "source": [
        "df.columns=[\"names\"]"
      ],
      "execution_count": 0,
      "outputs": []
    },
    {
      "cell_type": "code",
      "metadata": {
        "id": "eaICxHJT0Pwm",
        "colab_type": "code",
        "outputId": "e0785d0d-c9e4-494e-96c4-f16ea08014a2",
        "colab": {
          "base_uri": "https://localhost:8080/",
          "height": 204
        }
      },
      "source": [
        "df.head()"
      ],
      "execution_count": 8,
      "outputs": [
        {
          "output_type": "execute_result",
          "data": {
            "text/html": [
              "<div>\n",
              "<style scoped>\n",
              "    .dataframe tbody tr th:only-of-type {\n",
              "        vertical-align: middle;\n",
              "    }\n",
              "\n",
              "    .dataframe tbody tr th {\n",
              "        vertical-align: top;\n",
              "    }\n",
              "\n",
              "    .dataframe thead th {\n",
              "        text-align: right;\n",
              "    }\n",
              "</style>\n",
              "<table border=\"1\" class=\"dataframe\">\n",
              "  <thead>\n",
              "    <tr style=\"text-align: right;\">\n",
              "      <th></th>\n",
              "      <th>names</th>\n",
              "    </tr>\n",
              "  </thead>\n",
              "  <tbody>\n",
              "    <tr>\n",
              "      <th>0</th>\n",
              "      <td>/content/drive/My Drive/ccpd_db/00400862068966...</td>\n",
              "    </tr>\n",
              "    <tr>\n",
              "      <th>1</th>\n",
              "      <td>/content/drive/My Drive/ccpd_db/00844827586207...</td>\n",
              "    </tr>\n",
              "    <tr>\n",
              "      <th>2</th>\n",
              "      <td>/content/drive/My Drive/ccpd_db/00774425287357...</td>\n",
              "    </tr>\n",
              "    <tr>\n",
              "      <th>3</th>\n",
              "      <td>/content/drive/My Drive/ccpd_db/00662715517241...</td>\n",
              "    </tr>\n",
              "    <tr>\n",
              "      <th>4</th>\n",
              "      <td>/content/drive/My Drive/ccpd_db/00621048850574...</td>\n",
              "    </tr>\n",
              "  </tbody>\n",
              "</table>\n",
              "</div>"
            ],
            "text/plain": [
              "                                               names\n",
              "0  /content/drive/My Drive/ccpd_db/00400862068966...\n",
              "1  /content/drive/My Drive/ccpd_db/00844827586207...\n",
              "2  /content/drive/My Drive/ccpd_db/00774425287357...\n",
              "3  /content/drive/My Drive/ccpd_db/00662715517241...\n",
              "4  /content/drive/My Drive/ccpd_db/00621048850574..."
            ]
          },
          "metadata": {
            "tags": []
          },
          "execution_count": 8
        }
      ]
    },
    {
      "cell_type": "code",
      "metadata": {
        "id": "Zr1Ah8P16F9h",
        "colab_type": "code",
        "outputId": "a0d5c1de-f419-4ea7-de75-b32f0a0995f9",
        "colab": {
          "base_uri": "https://localhost:8080/",
          "height": 204
        }
      },
      "source": [
        "df=df[\"names\"].str.split(\"/\",n=-1,expand = True)\n",
        "df.head()"
      ],
      "execution_count": 9,
      "outputs": [
        {
          "output_type": "execute_result",
          "data": {
            "text/html": [
              "<div>\n",
              "<style scoped>\n",
              "    .dataframe tbody tr th:only-of-type {\n",
              "        vertical-align: middle;\n",
              "    }\n",
              "\n",
              "    .dataframe tbody tr th {\n",
              "        vertical-align: top;\n",
              "    }\n",
              "\n",
              "    .dataframe thead th {\n",
              "        text-align: right;\n",
              "    }\n",
              "</style>\n",
              "<table border=\"1\" class=\"dataframe\">\n",
              "  <thead>\n",
              "    <tr style=\"text-align: right;\">\n",
              "      <th></th>\n",
              "      <th>0</th>\n",
              "      <th>1</th>\n",
              "      <th>2</th>\n",
              "      <th>3</th>\n",
              "      <th>4</th>\n",
              "      <th>5</th>\n",
              "    </tr>\n",
              "  </thead>\n",
              "  <tbody>\n",
              "    <tr>\n",
              "      <th>0</th>\n",
              "      <td></td>\n",
              "      <td>content</td>\n",
              "      <td>drive</td>\n",
              "      <td>My Drive</td>\n",
              "      <td>ccpd_db</td>\n",
              "      <td>00400862068966-90_85-194_575_307_615-306_610_2...</td>\n",
              "    </tr>\n",
              "    <tr>\n",
              "      <th>1</th>\n",
              "      <td></td>\n",
              "      <td>content</td>\n",
              "      <td>drive</td>\n",
              "      <td>My Drive</td>\n",
              "      <td>ccpd_db</td>\n",
              "      <td>00844827586207-90_93-231_447_396_506-381_497_2...</td>\n",
              "    </tr>\n",
              "    <tr>\n",
              "      <th>2</th>\n",
              "      <td></td>\n",
              "      <td>content</td>\n",
              "      <td>drive</td>\n",
              "      <td>My Drive</td>\n",
              "      <td>ccpd_db</td>\n",
              "      <td>00774425287357-90_89-363_462_523_522-515_516_3...</td>\n",
              "    </tr>\n",
              "    <tr>\n",
              "      <th>3</th>\n",
              "      <td></td>\n",
              "      <td>content</td>\n",
              "      <td>drive</td>\n",
              "      <td>My Drive</td>\n",
              "      <td>ccpd_db</td>\n",
              "      <td>00662715517241-90_90-288_576_437_623-430_619_2...</td>\n",
              "    </tr>\n",
              "    <tr>\n",
              "      <th>4</th>\n",
              "      <td></td>\n",
              "      <td>content</td>\n",
              "      <td>drive</td>\n",
              "      <td>My Drive</td>\n",
              "      <td>ccpd_db</td>\n",
              "      <td>00621048850574-96_83-284_527_385_597-379_588_2...</td>\n",
              "    </tr>\n",
              "  </tbody>\n",
              "</table>\n",
              "</div>"
            ],
            "text/plain": [
              "  0        1  ...        4                                                  5\n",
              "0    content  ...  ccpd_db  00400862068966-90_85-194_575_307_615-306_610_2...\n",
              "1    content  ...  ccpd_db  00844827586207-90_93-231_447_396_506-381_497_2...\n",
              "2    content  ...  ccpd_db  00774425287357-90_89-363_462_523_522-515_516_3...\n",
              "3    content  ...  ccpd_db  00662715517241-90_90-288_576_437_623-430_619_2...\n",
              "4    content  ...  ccpd_db  00621048850574-96_83-284_527_385_597-379_588_2...\n",
              "\n",
              "[5 rows x 6 columns]"
            ]
          },
          "metadata": {
            "tags": []
          },
          "execution_count": 9
        }
      ]
    },
    {
      "cell_type": "code",
      "metadata": {
        "id": "q21Aw8-36GCQ",
        "colab_type": "code",
        "outputId": "e3ba008b-6130-4080-f451-01bbfeb66ce3",
        "colab": {
          "base_uri": "https://localhost:8080/",
          "height": 204
        }
      },
      "source": [
        "df=df.drop(columns=[0,1,2,3,4])\n",
        "df.head()"
      ],
      "execution_count": 10,
      "outputs": [
        {
          "output_type": "execute_result",
          "data": {
            "text/html": [
              "<div>\n",
              "<style scoped>\n",
              "    .dataframe tbody tr th:only-of-type {\n",
              "        vertical-align: middle;\n",
              "    }\n",
              "\n",
              "    .dataframe tbody tr th {\n",
              "        vertical-align: top;\n",
              "    }\n",
              "\n",
              "    .dataframe thead th {\n",
              "        text-align: right;\n",
              "    }\n",
              "</style>\n",
              "<table border=\"1\" class=\"dataframe\">\n",
              "  <thead>\n",
              "    <tr style=\"text-align: right;\">\n",
              "      <th></th>\n",
              "      <th>5</th>\n",
              "    </tr>\n",
              "  </thead>\n",
              "  <tbody>\n",
              "    <tr>\n",
              "      <th>0</th>\n",
              "      <td>00400862068966-90_85-194_575_307_615-306_610_2...</td>\n",
              "    </tr>\n",
              "    <tr>\n",
              "      <th>1</th>\n",
              "      <td>00844827586207-90_93-231_447_396_506-381_497_2...</td>\n",
              "    </tr>\n",
              "    <tr>\n",
              "      <th>2</th>\n",
              "      <td>00774425287357-90_89-363_462_523_522-515_516_3...</td>\n",
              "    </tr>\n",
              "    <tr>\n",
              "      <th>3</th>\n",
              "      <td>00662715517241-90_90-288_576_437_623-430_619_2...</td>\n",
              "    </tr>\n",
              "    <tr>\n",
              "      <th>4</th>\n",
              "      <td>00621048850574-96_83-284_527_385_597-379_588_2...</td>\n",
              "    </tr>\n",
              "  </tbody>\n",
              "</table>\n",
              "</div>"
            ],
            "text/plain": [
              "                                                   5\n",
              "0  00400862068966-90_85-194_575_307_615-306_610_2...\n",
              "1  00844827586207-90_93-231_447_396_506-381_497_2...\n",
              "2  00774425287357-90_89-363_462_523_522-515_516_3...\n",
              "3  00662715517241-90_90-288_576_437_623-430_619_2...\n",
              "4  00621048850574-96_83-284_527_385_597-379_588_2..."
            ]
          },
          "metadata": {
            "tags": []
          },
          "execution_count": 10
        }
      ]
    },
    {
      "cell_type": "code",
      "metadata": {
        "id": "eVM7qaDN7HtK",
        "colab_type": "code",
        "colab": {}
      },
      "source": [
        "\n"
      ],
      "execution_count": 0,
      "outputs": []
    },
    {
      "cell_type": "code",
      "metadata": {
        "id": "11qcscIR6NNA",
        "colab_type": "code",
        "colab": {}
      },
      "source": [
        "df=df[5].str.split(\"_\",n=-1,expand = True)"
      ],
      "execution_count": 0,
      "outputs": []
    },
    {
      "cell_type": "code",
      "metadata": {
        "id": "YlWup6sd6NQW",
        "colab_type": "code",
        "outputId": "0ac6b8d8-8d68-41a0-9f58-6d63acd3d244",
        "colab": {
          "base_uri": "https://localhost:8080/",
          "height": 204
        }
      },
      "source": [
        "df.head()"
      ],
      "execution_count": 12,
      "outputs": [
        {
          "output_type": "execute_result",
          "data": {
            "text/html": [
              "<div>\n",
              "<style scoped>\n",
              "    .dataframe tbody tr th:only-of-type {\n",
              "        vertical-align: middle;\n",
              "    }\n",
              "\n",
              "    .dataframe tbody tr th {\n",
              "        vertical-align: top;\n",
              "    }\n",
              "\n",
              "    .dataframe thead th {\n",
              "        text-align: right;\n",
              "    }\n",
              "</style>\n",
              "<table border=\"1\" class=\"dataframe\">\n",
              "  <thead>\n",
              "    <tr style=\"text-align: right;\">\n",
              "      <th></th>\n",
              "      <th>0</th>\n",
              "      <th>1</th>\n",
              "      <th>2</th>\n",
              "      <th>3</th>\n",
              "      <th>4</th>\n",
              "      <th>5</th>\n",
              "      <th>6</th>\n",
              "      <th>7</th>\n",
              "      <th>8</th>\n",
              "      <th>9</th>\n",
              "      <th>10</th>\n",
              "      <th>11</th>\n",
              "      <th>12</th>\n",
              "      <th>13</th>\n",
              "      <th>14</th>\n",
              "      <th>15</th>\n",
              "      <th>16</th>\n",
              "      <th>17</th>\n",
              "    </tr>\n",
              "  </thead>\n",
              "  <tbody>\n",
              "    <tr>\n",
              "      <th>0</th>\n",
              "      <td>00400862068966-90</td>\n",
              "      <td>85-194</td>\n",
              "      <td>575</td>\n",
              "      <td>307</td>\n",
              "      <td>615-306</td>\n",
              "      <td>610</td>\n",
              "      <td>200</td>\n",
              "      <td>608</td>\n",
              "      <td>198</td>\n",
              "      <td>579</td>\n",
              "      <td>304</td>\n",
              "      <td>580-0</td>\n",
              "      <td>0</td>\n",
              "      <td>29</td>\n",
              "      <td>26</td>\n",
              "      <td>15</td>\n",
              "      <td>29</td>\n",
              "      <td>29-186-11.jpg</td>\n",
              "    </tr>\n",
              "    <tr>\n",
              "      <th>1</th>\n",
              "      <td>00844827586207-90</td>\n",
              "      <td>93-231</td>\n",
              "      <td>447</td>\n",
              "      <td>396</td>\n",
              "      <td>506-381</td>\n",
              "      <td>497</td>\n",
              "      <td>236</td>\n",
              "      <td>499</td>\n",
              "      <td>238</td>\n",
              "      <td>453</td>\n",
              "      <td>383</td>\n",
              "      <td>451-0</td>\n",
              "      <td>0</td>\n",
              "      <td>13</td>\n",
              "      <td>2</td>\n",
              "      <td>27</td>\n",
              "      <td>24</td>\n",
              "      <td>26-193-11.jpg</td>\n",
              "    </tr>\n",
              "    <tr>\n",
              "      <th>2</th>\n",
              "      <td>00774425287357-90</td>\n",
              "      <td>89-363</td>\n",
              "      <td>462</td>\n",
              "      <td>523</td>\n",
              "      <td>522-515</td>\n",
              "      <td>516</td>\n",
              "      <td>369</td>\n",
              "      <td>514</td>\n",
              "      <td>369</td>\n",
              "      <td>472</td>\n",
              "      <td>516</td>\n",
              "      <td>474-0</td>\n",
              "      <td>9</td>\n",
              "      <td>15</td>\n",
              "      <td>26</td>\n",
              "      <td>32</td>\n",
              "      <td>26</td>\n",
              "      <td>24-26-12.jpg</td>\n",
              "    </tr>\n",
              "    <tr>\n",
              "      <th>3</th>\n",
              "      <td>00662715517241-90</td>\n",
              "      <td>90-288</td>\n",
              "      <td>576</td>\n",
              "      <td>437</td>\n",
              "      <td>623-430</td>\n",
              "      <td>619</td>\n",
              "      <td>295</td>\n",
              "      <td>620</td>\n",
              "      <td>295</td>\n",
              "      <td>580</td>\n",
              "      <td>429</td>\n",
              "      <td>579-0</td>\n",
              "      <td>0</td>\n",
              "      <td>8</td>\n",
              "      <td>17</td>\n",
              "      <td>33</td>\n",
              "      <td>32</td>\n",
              "      <td>33-195-11.jpg</td>\n",
              "    </tr>\n",
              "    <tr>\n",
              "      <th>4</th>\n",
              "      <td>00621048850574-96</td>\n",
              "      <td>83-284</td>\n",
              "      <td>527</td>\n",
              "      <td>385</td>\n",
              "      <td>597-379</td>\n",
              "      <td>588</td>\n",
              "      <td>288</td>\n",
              "      <td>577</td>\n",
              "      <td>288</td>\n",
              "      <td>531</td>\n",
              "      <td>379</td>\n",
              "      <td>542-0</td>\n",
              "      <td>0</td>\n",
              "      <td>31</td>\n",
              "      <td>24</td>\n",
              "      <td>32</td>\n",
              "      <td>32</td>\n",
              "      <td>32-189-14.jpg</td>\n",
              "    </tr>\n",
              "  </tbody>\n",
              "</table>\n",
              "</div>"
            ],
            "text/plain": [
              "                  0       1    2    3        4   ...  13  14  15  16             17\n",
              "0  00400862068966-90  85-194  575  307  615-306  ...  29  26  15  29  29-186-11.jpg\n",
              "1  00844827586207-90  93-231  447  396  506-381  ...  13   2  27  24  26-193-11.jpg\n",
              "2  00774425287357-90  89-363  462  523  522-515  ...  15  26  32  26   24-26-12.jpg\n",
              "3  00662715517241-90  90-288  576  437  623-430  ...   8  17  33  32  33-195-11.jpg\n",
              "4  00621048850574-96  83-284  527  385  597-379  ...  31  24  32  32  32-189-14.jpg\n",
              "\n",
              "[5 rows x 18 columns]"
            ]
          },
          "metadata": {
            "tags": []
          },
          "execution_count": 12
        }
      ]
    },
    {
      "cell_type": "code",
      "metadata": {
        "id": "uu0NHZuH6Qv3",
        "colab_type": "code",
        "colab": {}
      },
      "source": [
        "df1=df[1].str.split(\"-\",n=-1,expand=True)"
      ],
      "execution_count": 0,
      "outputs": []
    },
    {
      "cell_type": "code",
      "metadata": {
        "id": "qU83Jlya8w13",
        "colab_type": "code",
        "outputId": "d170910b-cc59-4ede-cd5a-dce3ecb135c9",
        "colab": {
          "base_uri": "https://localhost:8080/",
          "height": 204
        }
      },
      "source": [
        "df1=pd.concat([df1,df[2],df[3]],axis=1)\n",
        "df1.head()"
      ],
      "execution_count": 14,
      "outputs": [
        {
          "output_type": "execute_result",
          "data": {
            "text/html": [
              "<div>\n",
              "<style scoped>\n",
              "    .dataframe tbody tr th:only-of-type {\n",
              "        vertical-align: middle;\n",
              "    }\n",
              "\n",
              "    .dataframe tbody tr th {\n",
              "        vertical-align: top;\n",
              "    }\n",
              "\n",
              "    .dataframe thead th {\n",
              "        text-align: right;\n",
              "    }\n",
              "</style>\n",
              "<table border=\"1\" class=\"dataframe\">\n",
              "  <thead>\n",
              "    <tr style=\"text-align: right;\">\n",
              "      <th></th>\n",
              "      <th>0</th>\n",
              "      <th>1</th>\n",
              "      <th>2</th>\n",
              "      <th>3</th>\n",
              "    </tr>\n",
              "  </thead>\n",
              "  <tbody>\n",
              "    <tr>\n",
              "      <th>0</th>\n",
              "      <td>85</td>\n",
              "      <td>194</td>\n",
              "      <td>575</td>\n",
              "      <td>307</td>\n",
              "    </tr>\n",
              "    <tr>\n",
              "      <th>1</th>\n",
              "      <td>93</td>\n",
              "      <td>231</td>\n",
              "      <td>447</td>\n",
              "      <td>396</td>\n",
              "    </tr>\n",
              "    <tr>\n",
              "      <th>2</th>\n",
              "      <td>89</td>\n",
              "      <td>363</td>\n",
              "      <td>462</td>\n",
              "      <td>523</td>\n",
              "    </tr>\n",
              "    <tr>\n",
              "      <th>3</th>\n",
              "      <td>90</td>\n",
              "      <td>288</td>\n",
              "      <td>576</td>\n",
              "      <td>437</td>\n",
              "    </tr>\n",
              "    <tr>\n",
              "      <th>4</th>\n",
              "      <td>83</td>\n",
              "      <td>284</td>\n",
              "      <td>527</td>\n",
              "      <td>385</td>\n",
              "    </tr>\n",
              "  </tbody>\n",
              "</table>\n",
              "</div>"
            ],
            "text/plain": [
              "    0    1    2    3\n",
              "0  85  194  575  307\n",
              "1  93  231  447  396\n",
              "2  89  363  462  523\n",
              "3  90  288  576  437\n",
              "4  83  284  527  385"
            ]
          },
          "metadata": {
            "tags": []
          },
          "execution_count": 14
        }
      ]
    },
    {
      "cell_type": "code",
      "metadata": {
        "id": "hjFDEDOJ8yRE",
        "colab_type": "code",
        "outputId": "f35474d0-81c5-4fb9-d2ff-0076384858ce",
        "colab": {
          "base_uri": "https://localhost:8080/",
          "height": 204
        }
      },
      "source": [
        "df2=df[4].str.split(\"-\",n=-1,expand=True)\n",
        "df1=pd.concat([df1,df2,df[5],df[6],df[7],df[8],df[9],df[10]],axis=1)\n",
        "df1.head()"
      ],
      "execution_count": 15,
      "outputs": [
        {
          "output_type": "execute_result",
          "data": {
            "text/html": [
              "<div>\n",
              "<style scoped>\n",
              "    .dataframe tbody tr th:only-of-type {\n",
              "        vertical-align: middle;\n",
              "    }\n",
              "\n",
              "    .dataframe tbody tr th {\n",
              "        vertical-align: top;\n",
              "    }\n",
              "\n",
              "    .dataframe thead th {\n",
              "        text-align: right;\n",
              "    }\n",
              "</style>\n",
              "<table border=\"1\" class=\"dataframe\">\n",
              "  <thead>\n",
              "    <tr style=\"text-align: right;\">\n",
              "      <th></th>\n",
              "      <th>0</th>\n",
              "      <th>1</th>\n",
              "      <th>2</th>\n",
              "      <th>3</th>\n",
              "      <th>0</th>\n",
              "      <th>1</th>\n",
              "      <th>5</th>\n",
              "      <th>6</th>\n",
              "      <th>7</th>\n",
              "      <th>8</th>\n",
              "      <th>9</th>\n",
              "      <th>10</th>\n",
              "    </tr>\n",
              "  </thead>\n",
              "  <tbody>\n",
              "    <tr>\n",
              "      <th>0</th>\n",
              "      <td>85</td>\n",
              "      <td>194</td>\n",
              "      <td>575</td>\n",
              "      <td>307</td>\n",
              "      <td>615</td>\n",
              "      <td>306</td>\n",
              "      <td>610</td>\n",
              "      <td>200</td>\n",
              "      <td>608</td>\n",
              "      <td>198</td>\n",
              "      <td>579</td>\n",
              "      <td>304</td>\n",
              "    </tr>\n",
              "    <tr>\n",
              "      <th>1</th>\n",
              "      <td>93</td>\n",
              "      <td>231</td>\n",
              "      <td>447</td>\n",
              "      <td>396</td>\n",
              "      <td>506</td>\n",
              "      <td>381</td>\n",
              "      <td>497</td>\n",
              "      <td>236</td>\n",
              "      <td>499</td>\n",
              "      <td>238</td>\n",
              "      <td>453</td>\n",
              "      <td>383</td>\n",
              "    </tr>\n",
              "    <tr>\n",
              "      <th>2</th>\n",
              "      <td>89</td>\n",
              "      <td>363</td>\n",
              "      <td>462</td>\n",
              "      <td>523</td>\n",
              "      <td>522</td>\n",
              "      <td>515</td>\n",
              "      <td>516</td>\n",
              "      <td>369</td>\n",
              "      <td>514</td>\n",
              "      <td>369</td>\n",
              "      <td>472</td>\n",
              "      <td>516</td>\n",
              "    </tr>\n",
              "    <tr>\n",
              "      <th>3</th>\n",
              "      <td>90</td>\n",
              "      <td>288</td>\n",
              "      <td>576</td>\n",
              "      <td>437</td>\n",
              "      <td>623</td>\n",
              "      <td>430</td>\n",
              "      <td>619</td>\n",
              "      <td>295</td>\n",
              "      <td>620</td>\n",
              "      <td>295</td>\n",
              "      <td>580</td>\n",
              "      <td>429</td>\n",
              "    </tr>\n",
              "    <tr>\n",
              "      <th>4</th>\n",
              "      <td>83</td>\n",
              "      <td>284</td>\n",
              "      <td>527</td>\n",
              "      <td>385</td>\n",
              "      <td>597</td>\n",
              "      <td>379</td>\n",
              "      <td>588</td>\n",
              "      <td>288</td>\n",
              "      <td>577</td>\n",
              "      <td>288</td>\n",
              "      <td>531</td>\n",
              "      <td>379</td>\n",
              "    </tr>\n",
              "  </tbody>\n",
              "</table>\n",
              "</div>"
            ],
            "text/plain": [
              "   0    1    2    3    0    1    5    6    7    8    9    10\n",
              "0  85  194  575  307  615  306  610  200  608  198  579  304\n",
              "1  93  231  447  396  506  381  497  236  499  238  453  383\n",
              "2  89  363  462  523  522  515  516  369  514  369  472  516\n",
              "3  90  288  576  437  623  430  619  295  620  295  580  429\n",
              "4  83  284  527  385  597  379  588  288  577  288  531  379"
            ]
          },
          "metadata": {
            "tags": []
          },
          "execution_count": 15
        }
      ]
    },
    {
      "cell_type": "code",
      "metadata": {
        "id": "Iy8fIplmMSyO",
        "colab_type": "code",
        "outputId": "da4b9803-0271-4bc8-9339-ff3f099fde81",
        "colab": {
          "base_uri": "https://localhost:8080/",
          "height": 204
        }
      },
      "source": [
        "df3=df[11].str.split('-',n=-1,expand=True)\n",
        "df1=pd.concat([df1,df3[0]],axis=1)\n",
        "df1.head()"
      ],
      "execution_count": 16,
      "outputs": [
        {
          "output_type": "execute_result",
          "data": {
            "text/html": [
              "<div>\n",
              "<style scoped>\n",
              "    .dataframe tbody tr th:only-of-type {\n",
              "        vertical-align: middle;\n",
              "    }\n",
              "\n",
              "    .dataframe tbody tr th {\n",
              "        vertical-align: top;\n",
              "    }\n",
              "\n",
              "    .dataframe thead th {\n",
              "        text-align: right;\n",
              "    }\n",
              "</style>\n",
              "<table border=\"1\" class=\"dataframe\">\n",
              "  <thead>\n",
              "    <tr style=\"text-align: right;\">\n",
              "      <th></th>\n",
              "      <th>0</th>\n",
              "      <th>1</th>\n",
              "      <th>2</th>\n",
              "      <th>3</th>\n",
              "      <th>0</th>\n",
              "      <th>1</th>\n",
              "      <th>5</th>\n",
              "      <th>6</th>\n",
              "      <th>7</th>\n",
              "      <th>8</th>\n",
              "      <th>9</th>\n",
              "      <th>10</th>\n",
              "      <th>0</th>\n",
              "    </tr>\n",
              "  </thead>\n",
              "  <tbody>\n",
              "    <tr>\n",
              "      <th>0</th>\n",
              "      <td>85</td>\n",
              "      <td>194</td>\n",
              "      <td>575</td>\n",
              "      <td>307</td>\n",
              "      <td>615</td>\n",
              "      <td>306</td>\n",
              "      <td>610</td>\n",
              "      <td>200</td>\n",
              "      <td>608</td>\n",
              "      <td>198</td>\n",
              "      <td>579</td>\n",
              "      <td>304</td>\n",
              "      <td>580</td>\n",
              "    </tr>\n",
              "    <tr>\n",
              "      <th>1</th>\n",
              "      <td>93</td>\n",
              "      <td>231</td>\n",
              "      <td>447</td>\n",
              "      <td>396</td>\n",
              "      <td>506</td>\n",
              "      <td>381</td>\n",
              "      <td>497</td>\n",
              "      <td>236</td>\n",
              "      <td>499</td>\n",
              "      <td>238</td>\n",
              "      <td>453</td>\n",
              "      <td>383</td>\n",
              "      <td>451</td>\n",
              "    </tr>\n",
              "    <tr>\n",
              "      <th>2</th>\n",
              "      <td>89</td>\n",
              "      <td>363</td>\n",
              "      <td>462</td>\n",
              "      <td>523</td>\n",
              "      <td>522</td>\n",
              "      <td>515</td>\n",
              "      <td>516</td>\n",
              "      <td>369</td>\n",
              "      <td>514</td>\n",
              "      <td>369</td>\n",
              "      <td>472</td>\n",
              "      <td>516</td>\n",
              "      <td>474</td>\n",
              "    </tr>\n",
              "    <tr>\n",
              "      <th>3</th>\n",
              "      <td>90</td>\n",
              "      <td>288</td>\n",
              "      <td>576</td>\n",
              "      <td>437</td>\n",
              "      <td>623</td>\n",
              "      <td>430</td>\n",
              "      <td>619</td>\n",
              "      <td>295</td>\n",
              "      <td>620</td>\n",
              "      <td>295</td>\n",
              "      <td>580</td>\n",
              "      <td>429</td>\n",
              "      <td>579</td>\n",
              "    </tr>\n",
              "    <tr>\n",
              "      <th>4</th>\n",
              "      <td>83</td>\n",
              "      <td>284</td>\n",
              "      <td>527</td>\n",
              "      <td>385</td>\n",
              "      <td>597</td>\n",
              "      <td>379</td>\n",
              "      <td>588</td>\n",
              "      <td>288</td>\n",
              "      <td>577</td>\n",
              "      <td>288</td>\n",
              "      <td>531</td>\n",
              "      <td>379</td>\n",
              "      <td>542</td>\n",
              "    </tr>\n",
              "  </tbody>\n",
              "</table>\n",
              "</div>"
            ],
            "text/plain": [
              "   0    1    2    3    0    1    5    6    7    8    9    10   0 \n",
              "0  85  194  575  307  615  306  610  200  608  198  579  304  580\n",
              "1  93  231  447  396  506  381  497  236  499  238  453  383  451\n",
              "2  89  363  462  523  522  515  516  369  514  369  472  516  474\n",
              "3  90  288  576  437  623  430  619  295  620  295  580  429  579\n",
              "4  83  284  527  385  597  379  588  288  577  288  531  379  542"
            ]
          },
          "metadata": {
            "tags": []
          },
          "execution_count": 16
        }
      ]
    },
    {
      "cell_type": "code",
      "metadata": {
        "id": "ijLIYceaM4WV",
        "colab_type": "code",
        "outputId": "135a3dcd-914d-4be7-a100-277bf4e831b1",
        "colab": {
          "base_uri": "https://localhost:8080/",
          "height": 34
        }
      },
      "source": [
        "col=[0,1,2,3,4,5,6,7,8,9,10,11,12]\n",
        "df1.columns"
      ],
      "execution_count": 17,
      "outputs": [
        {
          "output_type": "execute_result",
          "data": {
            "text/plain": [
              "Int64Index([0, 1, 2, 3, 0, 1, 5, 6, 7, 8, 9, 10, 0], dtype='int64')"
            ]
          },
          "metadata": {
            "tags": []
          },
          "execution_count": 17
        }
      ]
    },
    {
      "cell_type": "code",
      "metadata": {
        "id": "JoL63XTMNETH",
        "colab_type": "code",
        "colab": {}
      },
      "source": [
        "df1.columns=col"
      ],
      "execution_count": 0,
      "outputs": []
    },
    {
      "cell_type": "code",
      "metadata": {
        "id": "8FLzkQsYNJBC",
        "colab_type": "code",
        "outputId": "84c238f5-f1db-41a3-ff6b-574f3ae0acfd",
        "colab": {
          "base_uri": "https://localhost:8080/",
          "height": 204
        }
      },
      "source": [
        "df1.head()"
      ],
      "execution_count": 19,
      "outputs": [
        {
          "output_type": "execute_result",
          "data": {
            "text/html": [
              "<div>\n",
              "<style scoped>\n",
              "    .dataframe tbody tr th:only-of-type {\n",
              "        vertical-align: middle;\n",
              "    }\n",
              "\n",
              "    .dataframe tbody tr th {\n",
              "        vertical-align: top;\n",
              "    }\n",
              "\n",
              "    .dataframe thead th {\n",
              "        text-align: right;\n",
              "    }\n",
              "</style>\n",
              "<table border=\"1\" class=\"dataframe\">\n",
              "  <thead>\n",
              "    <tr style=\"text-align: right;\">\n",
              "      <th></th>\n",
              "      <th>0</th>\n",
              "      <th>1</th>\n",
              "      <th>2</th>\n",
              "      <th>3</th>\n",
              "      <th>4</th>\n",
              "      <th>5</th>\n",
              "      <th>6</th>\n",
              "      <th>7</th>\n",
              "      <th>8</th>\n",
              "      <th>9</th>\n",
              "      <th>10</th>\n",
              "      <th>11</th>\n",
              "      <th>12</th>\n",
              "    </tr>\n",
              "  </thead>\n",
              "  <tbody>\n",
              "    <tr>\n",
              "      <th>0</th>\n",
              "      <td>85</td>\n",
              "      <td>194</td>\n",
              "      <td>575</td>\n",
              "      <td>307</td>\n",
              "      <td>615</td>\n",
              "      <td>306</td>\n",
              "      <td>610</td>\n",
              "      <td>200</td>\n",
              "      <td>608</td>\n",
              "      <td>198</td>\n",
              "      <td>579</td>\n",
              "      <td>304</td>\n",
              "      <td>580</td>\n",
              "    </tr>\n",
              "    <tr>\n",
              "      <th>1</th>\n",
              "      <td>93</td>\n",
              "      <td>231</td>\n",
              "      <td>447</td>\n",
              "      <td>396</td>\n",
              "      <td>506</td>\n",
              "      <td>381</td>\n",
              "      <td>497</td>\n",
              "      <td>236</td>\n",
              "      <td>499</td>\n",
              "      <td>238</td>\n",
              "      <td>453</td>\n",
              "      <td>383</td>\n",
              "      <td>451</td>\n",
              "    </tr>\n",
              "    <tr>\n",
              "      <th>2</th>\n",
              "      <td>89</td>\n",
              "      <td>363</td>\n",
              "      <td>462</td>\n",
              "      <td>523</td>\n",
              "      <td>522</td>\n",
              "      <td>515</td>\n",
              "      <td>516</td>\n",
              "      <td>369</td>\n",
              "      <td>514</td>\n",
              "      <td>369</td>\n",
              "      <td>472</td>\n",
              "      <td>516</td>\n",
              "      <td>474</td>\n",
              "    </tr>\n",
              "    <tr>\n",
              "      <th>3</th>\n",
              "      <td>90</td>\n",
              "      <td>288</td>\n",
              "      <td>576</td>\n",
              "      <td>437</td>\n",
              "      <td>623</td>\n",
              "      <td>430</td>\n",
              "      <td>619</td>\n",
              "      <td>295</td>\n",
              "      <td>620</td>\n",
              "      <td>295</td>\n",
              "      <td>580</td>\n",
              "      <td>429</td>\n",
              "      <td>579</td>\n",
              "    </tr>\n",
              "    <tr>\n",
              "      <th>4</th>\n",
              "      <td>83</td>\n",
              "      <td>284</td>\n",
              "      <td>527</td>\n",
              "      <td>385</td>\n",
              "      <td>597</td>\n",
              "      <td>379</td>\n",
              "      <td>588</td>\n",
              "      <td>288</td>\n",
              "      <td>577</td>\n",
              "      <td>288</td>\n",
              "      <td>531</td>\n",
              "      <td>379</td>\n",
              "      <td>542</td>\n",
              "    </tr>\n",
              "  </tbody>\n",
              "</table>\n",
              "</div>"
            ],
            "text/plain": [
              "   0    1    2    3    4    5    6    7    8    9    10   11   12\n",
              "0  85  194  575  307  615  306  610  200  608  198  579  304  580\n",
              "1  93  231  447  396  506  381  497  236  499  238  453  383  451\n",
              "2  89  363  462  523  522  515  516  369  514  369  472  516  474\n",
              "3  90  288  576  437  623  430  619  295  620  295  580  429  579\n",
              "4  83  284  527  385  597  379  588  288  577  288  531  379  542"
            ]
          },
          "metadata": {
            "tags": []
          },
          "execution_count": 19
        }
      ]
    },
    {
      "cell_type": "code",
      "metadata": {
        "id": "j6Z73Re1NPLi",
        "colab_type": "code",
        "colab": {}
      },
      "source": [
        "df=df1.drop(0,axis=1)"
      ],
      "execution_count": 0,
      "outputs": []
    },
    {
      "cell_type": "code",
      "metadata": {
        "id": "aZ5a-xh5NSh-",
        "colab_type": "code",
        "colab": {}
      },
      "source": [
        "df.head()\n",
        "df=df.astype(int)"
      ],
      "execution_count": 0,
      "outputs": []
    },
    {
      "cell_type": "code",
      "metadata": {
        "id": "OZ_0gd5FNuwE",
        "colab_type": "code",
        "colab": {}
      },
      "source": [
        "dfnamelist=pd.DataFrame(names)"
      ],
      "execution_count": 0,
      "outputs": []
    },
    {
      "cell_type": "code",
      "metadata": {
        "id": "wgZ8fCXMPI_k",
        "colab_type": "code",
        "outputId": "851c7ac0-90b0-4622-ace8-37161c67559a",
        "colab": {
          "base_uri": "https://localhost:8080/",
          "height": 269
        }
      },
      "source": [
        "import matplotlib.pyplot as plt\n",
        "from skimage import io, transform\n",
        "plt.ion()  \n",
        "def show_landmarks(image, landmarks):\n",
        "    \"\"\"Show image with landmarks\"\"\"\n",
        "    plt.imshow(image)\n",
        "    plt.scatter(landmarks.loc[0,7],landmarks.loc[0,8] ,s=10, marker='.', c='r')\n",
        "    plt.scatter(landmarks.loc[0,5],landmarks.loc[0,6] ,s=10, marker='.', c='r')\n",
        "    plt.scatter(landmarks.loc[0,9],landmarks.loc[0,10] ,s=10, marker='.', c='r')\n",
        "    plt.scatter(landmarks.loc[0,11],landmarks.loc[0,12] ,s=10, marker='.', c='r')\n",
        "    plt.pause(0.001)  # pause a bit so that plots are updated\n",
        "\n",
        "plt.figure()\n",
        "show_landmarks(io.imread(dfnamelist.iloc[0,0]),df)\n",
        "plt.show()"
      ],
      "execution_count": 23,
      "outputs": [
        {
          "output_type": "display_data",
          "data": {
            "image/png": "[encoded data removed]",
            "text/plain": [
              "<Figure size 432x288 with 1 Axes>"
            ]
          },
          "metadata": {
            "tags": []
          }
        }
      ]
    },
    {
      "cell_type": "code",
      "metadata": {
        "id": "jOo6FlBKQJkr",
        "colab_type": "code",
        "outputId": "85921103-9ea3-4136-9a47-86aa1e21271d",
        "colab": {
          "base_uri": "https://localhost:8080/",
          "height": 34
        }
      },
      "source": [
        "dfnamelist.iloc[0,0]"
      ],
      "execution_count": 24,
      "outputs": [
        {
          "output_type": "execute_result",
          "data": {
            "text/plain": [
              "'/content/drive/My Drive/ccpd_db/00400862068966-90_85-194_575_307_615-306_610_200_608_198_579_304_580-0_0_29_26_15_29_29-186-11.jpg'"
            ]
          },
          "metadata": {
            "tags": []
          },
          "execution_count": 24
        }
      ]
    },
    {
      "cell_type": "code",
      "metadata": {
        "id": "rQT48r2lS3w9",
        "colab_type": "code",
        "colab": {}
      },
      "source": [
        "def __getitem__(self, idx):\n",
        "        if torch.is_tensor(idx):\n",
        "            idx = idx.tolist()\n",
        "\n",
        "        img_name = dfnamelist.iloc[idx,0]\n",
        "        image = io.imread(img_name)\n",
        "        landmarks = self.df.iloc[idx, 0:]\n",
        "        landmarks = np.array([landmarks])\n",
        "        landmarks = landmarks.astype('float').reshape(-1, 2)\n",
        "        sample = {'image': image, 'landmarks': landmarks}\n",
        "\n",
        "        if self.transform:\n",
        "            sample = self.transform(sample)\n",
        "\n",
        "        return sample"
      ],
      "execution_count": 0,
      "outputs": []
    },
    {
      "cell_type": "code",
      "metadata": {
        "id": "K2g85TJx1IFY",
        "colab_type": "code",
        "outputId": "28ef0af8-7ddb-42fb-f469-0ce65d65e65b",
        "colab": {
          "base_uri": "https://localhost:8080/",
          "height": 34
        }
      },
      "source": [
        "image=io.imread(dfnamelist.iloc[0,0])\n",
        "image.dtype"
      ],
      "execution_count": 26,
      "outputs": [
        {
          "output_type": "execute_result",
          "data": {
            "text/plain": [
              "dtype('uint8')"
            ]
          },
          "metadata": {
            "tags": []
          },
          "execution_count": 26
        }
      ]
    },
    {
      "cell_type": "code",
      "metadata": {
        "id": "5N05xTvq3_SQ",
        "colab_type": "code",
        "colab": {}
      },
      "source": [
        ""
      ],
      "execution_count": 0,
      "outputs": []
    },
    {
      "cell_type": "code",
      "metadata": {
        "id": "33pS4Kw94V6n",
        "colab_type": "code",
        "colab": {}
      },
      "source": [
        "import torchvision.transforms as transforms\n",
        "from PIL import Image\n",
        "\n",
        "images=glob.glob(\"/content/drive/My Drive/ccpd_db/*jpg\")\n",
        "for image in images:\n",
        "  \n",
        "  img = Image.open(image)\n",
        "  \n",
        "  trans1 = transforms.ToTensor()\n",
        "  data=trans1(img)\n",
        "  \n",
        "  "
      ],
      "execution_count": 0,
      "outputs": []
    },
    {
      "cell_type": "code",
      "metadata": {
        "id": "AdvpF08O5UlZ",
        "colab_type": "code",
        "colab": {}
      },
      "source": [
        "import torch\n",
        "from torchvision import transforms, datasets\n",
        "\n",
        "data_transform = transforms.Compose([\n",
        "        transforms.ToTensor(),\n",
        "        transforms.Normalize(mean=[0.485, 0.456, 0.406],\n",
        "                             std=[0.229, 0.224, 0.225])\n",
        "    ])\n",
        "hymenoptera_dataset = datasets.ImageFolder(root='/content/drive/My Drive',\n",
        "                                           transform=data_transform)\n",
        "dataset_loader = torch.utils.data.DataLoader(hymenoptera_dataset,\n",
        "                                             batch_size=4, shuffle=True,\n",
        "                                             num_workers=4)"
      ],
      "execution_count": 0,
      "outputs": []
    },
    {
      "cell_type": "code",
      "metadata": {
        "id": "F0mynQqJ7wrs",
        "colab_type": "code",
        "colab": {}
      },
      "source": [
        "from torch.utils.data import Dataset, DataLoader\n",
        "class Numberpalate(Dataset):\n",
        "\n",
        "    def __init__(self, csv_file, transform=None):\n",
        "        \"\"\"\n",
        "        Args:\n",
        "            csv_file (string): Path to the csv file with annotations.\n",
        "            root_dir (string): Directory with all the images.\n",
        "            transform (callable, optional): Optional transform to be applied\n",
        "                on a sample.\n",
        "        \"\"\"\n",
        "        self.landmarks_frame = (csv_file)\n",
        "        \n",
        "        self.transform = transform\n",
        "\n",
        "    def __len__(self):\n",
        "        return len(self.landmarks_frame)\n",
        "\n",
        "    def __getitem__(self, idx):\n",
        "        if torch.is_tensor(idx):\n",
        "            idx = idx.tolist()\n",
        "\n",
        "        img_name =self.landmarks_frame.iloc[idx, 0]\n",
        "        image = io.imread(img_name)\n",
        "        landmarks = self.landmarks_frame.iloc[idx, 1:]\n",
        "        landmarks = np.array([landmarks])\n",
        "        landmarks = landmarks.astype('float').reshape(-1, 2)\n",
        "        sample = {'image': image, 'landmarks': landmarks}\n",
        "\n",
        "        if self.transform:\n",
        "            sample = self.transform(sample)\n",
        "\n",
        "        return sample"
      ],
      "execution_count": 0,
      "outputs": []
    },
    {
      "cell_type": "code",
      "metadata": {
        "id": "xQFI7x-vvkGK",
        "colab_type": "code",
        "colab": {}
      },
      "source": [
        "file=pd.DataFrame(names)"
      ],
      "execution_count": 0,
      "outputs": []
    },
    {
      "cell_type": "code",
      "metadata": {
        "id": "WqunjnI9zHSm",
        "colab_type": "code",
        "colab": {}
      },
      "source": [
        "file=pd.concat([file[0],df],axis=1)"
      ],
      "execution_count": 0,
      "outputs": []
    },
    {
      "cell_type": "code",
      "metadata": {
        "id": "jRr7JhII0B_1",
        "colab_type": "code",
        "colab": {}
      },
      "source": [
        "class ToTensor(object):\n",
        "    \"\"\"Convert ndarrays in sample to Tensors.\"\"\"\n",
        "\n",
        "    def __call__(self, sample):\n",
        "        image, landmarks = sample['image'], sample['landmarks']\n",
        "\n",
        "        # swap color axis because\n",
        "        # numpy image: H x W x C\n",
        "        # torch image: C X H X W\n",
        "        image = image.transpose((2, 0, 1))\n",
        "        return {'image': torch.from_numpy(image),\n",
        "                'landmarks': torch.from_numpy(landmarks)}"
      ],
      "execution_count": 0,
      "outputs": []
    },
    {
      "cell_type": "code",
      "metadata": {
        "id": "YP3cQbukzS-N",
        "colab_type": "code",
        "colab": {}
      },
      "source": [
        "transformed_dataset =Numberpalate(file,transform=transforms.Compose([ToTensor()]))\n"
      ],
      "execution_count": 0,
      "outputs": []
    },
    {
      "cell_type": "code",
      "metadata": {
        "id": "McVK6aMIzzmZ",
        "colab_type": "code",
        "colab": {}
      },
      "source": [
        "\n",
        "dataloader = DataLoader(transformed_dataset, batch_size=4,\n",
        "                        shuffle=True, num_workers=4)\n"
      ],
      "execution_count": 0,
      "outputs": []
    },
    {
      "cell_type": "code",
      "metadata": {
        "id": "yklL5oNE0Oap",
        "colab_type": "code",
        "colab": {}
      },
      "source": [
        "s=next(iter(dataloader))"
      ],
      "execution_count": 0,
      "outputs": []
    },
    {
      "cell_type": "code",
      "metadata": {
        "id": "HM4HZ4ERQIrL",
        "colab_type": "code",
        "outputId": "acba5758-3ecd-4aff-85e8-b8a37bf235bb",
        "colab": {
          "base_uri": "https://localhost:8080/",
          "height": 34
        }
      },
      "source": [
        "s.items"
      ],
      "execution_count": 36,
      "outputs": [
        {
          "output_type": "execute_result",
          "data": {
            "text/plain": [
              "<function dict.items>"
            ]
          },
          "metadata": {
            "tags": []
          },
          "execution_count": 36
        }
      ]
    },
    {
      "cell_type": "code",
      "metadata": {
        "id": "9CR98ubdOxNr",
        "colab_type": "code",
        "colab": {}
      },
      "source": [
        "model =   wR2()\n",
        "\n",
        "# Loss and optimizer\n",
        "criterion = torch.nn.MSELoss()\n",
        "optimizer = torch.optim.Adam(model.parameters(), lr=1e-6)"
      ],
      "execution_count": 0,
      "outputs": []
    },
    {
      "cell_type": "code",
      "metadata": {
        "id": "NTKrI-_UvEDg",
        "colab_type": "code",
        "colab": {}
      },
      "source": [
        ""
      ],
      "execution_count": 0,
      "outputs": []
    },
    {
      "cell_type": "code",
      "metadata": {
        "id": "oUd2hBMHRk-4",
        "colab_type": "code",
        "outputId": "c901509b-b8a2-406c-8d1e-74b70fd33966",
        "colab": {
          "base_uri": "https://localhost:8080/",
          "height": 34
        }
      },
      "source": [
        "use_cuda = torch.cuda.is_available()\n",
        "device = torch.device(\"cuda:0\" if use_cuda else \"cpu\")\n",
        "device"
      ],
      "execution_count": 38,
      "outputs": [
        {
          "output_type": "execute_result",
          "data": {
            "text/plain": [
              "device(type='cuda', index=0)"
            ]
          },
          "metadata": {
            "tags": []
          },
          "execution_count": 38
        }
      ]
    },
    {
      "cell_type": "code",
      "metadata": {
        "id": "AG2ZXEyTRk4W",
        "colab_type": "code",
        "colab": {}
      },
      "source": [
        "sample=next(iter(dataloader))"
      ],
      "execution_count": 0,
      "outputs": []
    },
    {
      "cell_type": "code",
      "metadata": {
        "id": "VgS4nWM9S9V_",
        "colab_type": "code",
        "colab": {}
      },
      "source": [
        "sample.get(\"labels\")"
      ],
      "execution_count": 0,
      "outputs": []
    },
    {
      "cell_type": "code",
      "metadata": {
        "id": "wVD4dtiaOx4l",
        "colab_type": "code",
        "colab": {
          "base_uri": "https://localhost:8080/",
          "height": 323
        },
        "outputId": "a88959fd-6314-4b54-f63b-6a5ba5518d5f"
      },
      "source": [
        "num_epochs=2\n",
        "total_step = len(dataloader)\n",
        "loss_list = []\n",
        "acc_list = []\n",
        "for epoch in range(num_epochs):\n",
        "    for i, sample in enumerate(dataloader):\n",
        "        # Run the forward pass\n",
        "        images=sample.get('image').type(torch.FloatTensor)\n",
        "        labels=sample.get('landmarks').type(torch.FloatTensor).reshape([4,12])\n",
        "        \n",
        "        outputs = model(images)\n",
        "        loss = criterion(outputs, labels)\n",
        "        loss_list.append(loss.item())\n",
        "\n",
        "        # Backprop and perform Adam optimisation\n",
        "        optimizer.zero_grad()\n",
        "        loss.backward()\n",
        "        optimizer.step()\n",
        "\n",
        "        \n",
        "\n",
        "        if (i ) % 10 == 0:\n",
        "            print((epoch + 1, num_epochs, i + 1, total_step, loss.item()))"
      ],
      "execution_count": 41,
      "outputs": [
        {
          "output_type": "stream",
          "text": [
            "(1, 2, 1, 85, 207436.453125)\n",
            "(1, 2, 11, 85, 214530.578125)\n",
            "(1, 2, 21, 85, 181541.78125)\n",
            "(1, 2, 31, 85, 217609.578125)\n",
            "(1, 2, 41, 85, 219428.21875)\n",
            "(1, 2, 51, 85, 241079.84375)\n",
            "(1, 2, 61, 85, 215635.59375)\n",
            "(1, 2, 71, 85, 218686.15625)\n",
            "(1, 2, 81, 85, 201679.015625)\n",
            "(2, 2, 1, 85, 210958.046875)\n",
            "(2, 2, 11, 85, 194185.078125)\n",
            "(2, 2, 21, 85, 222675.640625)\n",
            "(2, 2, 31, 85, 242420.65625)\n",
            "(2, 2, 41, 85, 206768.375)\n",
            "(2, 2, 51, 85, 193912.34375)\n",
            "(2, 2, 61, 85, 181321.046875)\n",
            "(2, 2, 71, 85, 215068.890625)\n",
            "(2, 2, 81, 85, 202866.375)\n"
          ],
          "name": "stdout"
        }
      ]
    },
    {
      "cell_type": "code",
      "metadata": {
        "id": "iXyAeVJqOyYD",
        "colab_type": "code",
        "colab": {
          "base_uri": "https://localhost:8080/",
          "height": 1000
        },
        "outputId": "ef40f9fa-f11f-4be4-fd32-042bfdb62ac6"
      },
      "source": [
        "model"
      ],
      "execution_count": 42,
      "outputs": [
        {
          "output_type": "execute_result",
          "data": {
            "text/plain": [
              "wR2(\n",
              "  (features): Sequential(\n",
              "    (0): Sequential(\n",
              "      (0): Conv2d(3, 48, kernel_size=(5, 5), stride=(2, 2), padding=(2, 2))\n",
              "      (1): BatchNorm2d(48, eps=1e-05, momentum=0.1, affine=True, track_running_stats=True)\n",
              "      (2): ReLU()\n",
              "      (3): MaxPool2d(kernel_size=2, stride=2, padding=1, dilation=1, ceil_mode=False)\n",
              "      (4): Dropout(p=0.2, inplace=False)\n",
              "    )\n",
              "    (1): Sequential(\n",
              "      (0): Conv2d(48, 64, kernel_size=(5, 5), stride=(1, 1), padding=(2, 2))\n",
              "      (1): BatchNorm2d(64, eps=1e-05, momentum=0.1, affine=True, track_running_stats=True)\n",
              "      (2): ReLU()\n",
              "      (3): MaxPool2d(kernel_size=2, stride=1, padding=1, dilation=1, ceil_mode=False)\n",
              "      (4): Dropout(p=0.2, inplace=False)\n",
              "    )\n",
              "    (2): Sequential(\n",
              "      (0): Conv2d(64, 128, kernel_size=(5, 5), stride=(1, 1), padding=(2, 2))\n",
              "      (1): BatchNorm2d(128, eps=1e-05, momentum=0.1, affine=True, track_running_stats=True)\n",
              "      (2): ReLU()\n",
              "      (3): MaxPool2d(kernel_size=2, stride=2, padding=1, dilation=1, ceil_mode=False)\n",
              "      (4): Dropout(p=0.2, inplace=False)\n",
              "    )\n",
              "    (3): Sequential(\n",
              "      (0): Conv2d(128, 160, kernel_size=(5, 5), stride=(1, 1), padding=(2, 2))\n",
              "      (1): BatchNorm2d(160, eps=1e-05, momentum=0.1, affine=True, track_running_stats=True)\n",
              "      (2): ReLU()\n",
              "      (3): MaxPool2d(kernel_size=2, stride=1, padding=1, dilation=1, ceil_mode=False)\n",
              "      (4): Dropout(p=0.2, inplace=False)\n",
              "    )\n",
              "    (4): Sequential(\n",
              "      (0): Conv2d(160, 192, kernel_size=(5, 5), stride=(1, 1), padding=(2, 2))\n",
              "      (1): BatchNorm2d(192, eps=1e-05, momentum=0.1, affine=True, track_running_stats=True)\n",
              "      (2): ReLU()\n",
              "      (3): MaxPool2d(kernel_size=2, stride=2, padding=1, dilation=1, ceil_mode=False)\n",
              "      (4): Dropout(p=0.2, inplace=False)\n",
              "    )\n",
              "    (5): Sequential(\n",
              "      (0): Conv2d(192, 192, kernel_size=(5, 5), stride=(1, 1), padding=(2, 2))\n",
              "      (1): BatchNorm2d(192, eps=1e-05, momentum=0.1, affine=True, track_running_stats=True)\n",
              "      (2): ReLU()\n",
              "      (3): MaxPool2d(kernel_size=2, stride=1, padding=1, dilation=1, ceil_mode=False)\n",
              "      (4): Dropout(p=0.2, inplace=False)\n",
              "    )\n",
              "    (6): Sequential(\n",
              "      (0): Conv2d(192, 192, kernel_size=(5, 5), stride=(1, 1), padding=(2, 2))\n",
              "      (1): BatchNorm2d(192, eps=1e-05, momentum=0.1, affine=True, track_running_stats=True)\n",
              "      (2): ReLU()\n",
              "      (3): MaxPool2d(kernel_size=2, stride=2, padding=1, dilation=1, ceil_mode=False)\n",
              "      (4): Dropout(p=0.2, inplace=False)\n",
              "    )\n",
              "    (7): Sequential(\n",
              "      (0): Conv2d(192, 192, kernel_size=(5, 5), stride=(1, 1), padding=(2, 2))\n",
              "      (1): BatchNorm2d(192, eps=1e-05, momentum=0.1, affine=True, track_running_stats=True)\n",
              "      (2): ReLU()\n",
              "      (3): MaxPool2d(kernel_size=2, stride=1, padding=1, dilation=1, ceil_mode=False)\n",
              "      (4): Dropout(p=0.2, inplace=False)\n",
              "    )\n",
              "    (8): Sequential(\n",
              "      (0): Conv2d(192, 192, kernel_size=(3, 3), stride=(1, 1), padding=(1, 1))\n",
              "      (1): BatchNorm2d(192, eps=1e-05, momentum=0.1, affine=True, track_running_stats=True)\n",
              "      (2): ReLU()\n",
              "      (3): MaxPool2d(kernel_size=2, stride=2, padding=1, dilation=1, ceil_mode=False)\n",
              "      (4): Dropout(p=0.2, inplace=False)\n",
              "    )\n",
              "    (9): Sequential(\n",
              "      (0): Conv2d(192, 192, kernel_size=(3, 3), stride=(1, 1), padding=(1, 1))\n",
              "      (1): BatchNorm2d(192, eps=1e-05, momentum=0.1, affine=True, track_running_stats=True)\n",
              "      (2): ReLU()\n",
              "      (3): MaxPool2d(kernel_size=2, stride=1, padding=1, dilation=1, ceil_mode=False)\n",
              "      (4): Dropout(p=0.2, inplace=False)\n",
              "    )\n",
              "  )\n",
              "  (classifier): Sequential(\n",
              "    (0): Linear(in_features=63360, out_features=100, bias=True)\n",
              "    (1): Linear(in_features=100, out_features=100, bias=True)\n",
              "    (2): Linear(in_features=100, out_features=12, bias=True)\n",
              "  )\n",
              ")"
            ]
          },
          "metadata": {
            "tags": []
          },
          "execution_count": 42
        }
      ]
    },
    {
      "cell_type": "code",
      "metadata": {
        "id": "i62X0GRxgTBg",
        "colab_type": "code",
        "colab": {}
      },
      "source": [
        ""
      ],
      "execution_count": 0,
      "outputs": []
    }
  ]
}